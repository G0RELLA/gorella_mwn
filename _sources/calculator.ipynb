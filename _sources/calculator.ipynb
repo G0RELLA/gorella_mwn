{
 "cells": [
  {
   "cell_type": "markdown",
   "metadata": {},
   "source": [
    "# Calculator \n",
    "\n",
    "This is a very easy calculator by writing a class"
   ]
  },
  {
   "cell_type": "code",
   "execution_count": 78,
   "metadata": {},
   "outputs": [],
   "source": [
    "import math\n",
    "\n",
    "class Calculator:\n",
    "    \"\"\"A Calculator which has a list of results and the option to add, substract, divide, multiply, pow and squareroot\"\"\"\n",
    "    results = []\n",
    "\n",
    "    # init method\n",
    "    def __init__(self):\n",
    "        self.results = []\n",
    "    \n",
    "    \n",
    "    def add(self,a,b):\n",
    "        \"\"\"a and b must be numbers, the numbers will be added and returned. The result will be stored in the results history\"\"\"\n",
    "        self.results.append(\"%f + %f\" % (a,b))\n",
    "        self.results.append(a+b)\n",
    "        return a+b\n",
    "    \n",
    "    def substract(self,a,b):\n",
    "        \"\"\"a and b must be numbers, the numbers will be substaced and returned. The result will be stored in the results history\"\"\"\n",
    "        self.results.append(\"%f - %f\" % (a,b))\n",
    "        self.results.append(a-b)\n",
    "        return a-b\n",
    "    \n",
    "    def multiply(self,a,b):\n",
    "        \"\"\"a and b must be numbers, the numbers will be multiplied and returned. The result will be stored in the results history\"\"\"\n",
    "        self.results.append(\"%f * %f\" % (a,b))\n",
    "        self.results.append(a*b)\n",
    "        return a*b\n",
    "    \n",
    "    def divide(self,a,b):\n",
    "        \"\"\"a and b must be numbers, the numbers will be divided and returned. The result will be stored in the results history\"\"\"\n",
    "        self.results.append(\"%f / %f\" % (a,b))\n",
    "        try: \n",
    "            temp_result = a/b\n",
    "        except ZeroDivisionError:\n",
    "            self.results.append(\"division by zero is not allowed\")\n",
    "            return('division by zero is not allowed')\n",
    "        else:\n",
    "            self.results.append(\"the division is not possible\")\n",
    "            return \"the division is not possible\"   \n",
    "        self.results.append(temp_result)\n",
    "        return temp_result\n",
    "    \n",
    "    def pow(self,a,b):\n",
    "        \"\"\"a and b must be numbers, a pow b will be calculated and returned. The result will be stored in the results history\"\"\"\n",
    "        self.results.append(\"%f ** %f\" % (a,b))\n",
    "        self.results.append(pow(a,b))\n",
    "        return pow(a,b)\n",
    "    \n",
    "    def sqrt(self,a):\n",
    "        \"\"\"a must be a number, squareroot of a will be calculated and returned. The result will be stored in the results history\"\"\"\n",
    "        self.results.append(\"sqrt(%f)\" % (a))\n",
    "        self.results.append(math.sqrt(a))\n",
    "        return math.sqrt(a)   \n",
    "    \n",
    "    def print_history(self):\n",
    "        for i in self.results:\n",
    "            print(i)"
   ]
  },
  {
   "cell_type": "code",
   "execution_count": 79,
   "metadata": {},
   "outputs": [],
   "source": [
    "calc = Calculator()"
   ]
  },
  {
   "cell_type": "code",
   "execution_count": 80,
   "metadata": {},
   "outputs": [
    {
     "data": {
      "text/plain": [
       "7"
      ]
     },
     "execution_count": 80,
     "metadata": {},
     "output_type": "execute_result"
    }
   ],
   "source": [
    "calc.add(3,4)"
   ]
  },
  {
   "cell_type": "code",
   "execution_count": 81,
   "metadata": {},
   "outputs": [
    {
     "data": {
      "text/plain": [
       "6"
      ]
     },
     "execution_count": 81,
     "metadata": {},
     "output_type": "execute_result"
    }
   ],
   "source": [
    "calc.add(2,4)"
   ]
  },
  {
   "cell_type": "code",
   "execution_count": 82,
   "metadata": {},
   "outputs": [
    {
     "data": {
      "text/plain": [
       "'division by zero is not allowed'"
      ]
     },
     "execution_count": 82,
     "metadata": {},
     "output_type": "execute_result"
    }
   ],
   "source": [
    "calc.divide(2,0)"
   ]
  },
  {
   "cell_type": "code",
   "execution_count": 61,
   "metadata": {},
   "outputs": [
    {
     "data": {
      "text/plain": [
       "2.0"
      ]
     },
     "execution_count": 61,
     "metadata": {},
     "output_type": "execute_result"
    }
   ],
   "source": [
    "calc.divide(4,2)"
   ]
  },
  {
   "cell_type": "code",
   "execution_count": 62,
   "metadata": {},
   "outputs": [
    {
     "data": {
      "text/plain": [
       "12"
      ]
     },
     "execution_count": 62,
     "metadata": {},
     "output_type": "execute_result"
    }
   ],
   "source": [
    "calc.multiply(3,4)"
   ]
  },
  {
   "cell_type": "code",
   "execution_count": 63,
   "metadata": {},
   "outputs": [
    {
     "data": {
      "text/plain": [
       "-1"
      ]
     },
     "execution_count": 63,
     "metadata": {},
     "output_type": "execute_result"
    }
   ],
   "source": [
    "calc.substract(4,5)"
   ]
  },
  {
   "cell_type": "code",
   "execution_count": 64,
   "metadata": {},
   "outputs": [
    {
     "data": {
      "text/plain": [
       "4"
      ]
     },
     "execution_count": 64,
     "metadata": {},
     "output_type": "execute_result"
    }
   ],
   "source": [
    "calc.pow(2,2)"
   ]
  },
  {
   "cell_type": "code",
   "execution_count": 65,
   "metadata": {},
   "outputs": [
    {
     "data": {
      "text/plain": [
       "2.0"
      ]
     },
     "execution_count": 65,
     "metadata": {},
     "output_type": "execute_result"
    }
   ],
   "source": [
    "calc.sqrt(4)"
   ]
  },
  {
   "cell_type": "code",
   "execution_count": 66,
   "metadata": {},
   "outputs": [
    {
     "name": "stdout",
     "output_type": "stream",
     "text": [
      "3.000000 + 4.000000\n",
      "7\n",
      "2.000000 + 4.000000\n",
      "6\n",
      "2.000000 / 0.000000\n",
      "the division is not possible\n",
      "4.000000 / 2.000000\n",
      "2.0\n",
      "3.000000 * 4.000000\n",
      "12\n",
      "4.000000 - 5.000000\n",
      "-1\n",
      "2.000000 ** 2.000000\n",
      "4\n",
      "sqrt(4.000000)\n",
      "2.0\n"
     ]
    }
   ],
   "source": [
    "calc.print_history()"
   ]
  },
  {
   "cell_type": "code",
   "execution_count": 68,
   "metadata": {},
   "outputs": [],
   "source": [
    "calc2 = Calculator()"
   ]
  },
  {
   "cell_type": "code",
   "execution_count": 69,
   "metadata": {},
   "outputs": [
    {
     "data": {
      "text/plain": [
       "6"
      ]
     },
     "execution_count": 69,
     "metadata": {},
     "output_type": "execute_result"
    }
   ],
   "source": [
    "calc2.add(3,3)"
   ]
  },
  {
   "cell_type": "code",
   "execution_count": 70,
   "metadata": {},
   "outputs": [
    {
     "name": "stdout",
     "output_type": "stream",
     "text": [
      "3.000000 + 3.000000\n",
      "6\n"
     ]
    }
   ],
   "source": [
    "calc2.print_history()"
   ]
  },
  {
   "cell_type": "code",
   "execution_count": 72,
   "metadata": {},
   "outputs": [
    {
     "data": {
      "text/plain": [
       "6.3999999999999995"
      ]
     },
     "execution_count": 72,
     "metadata": {},
     "output_type": "execute_result"
    }
   ],
   "source": [
    "calc2.add(2.3,4.1)"
   ]
  },
  {
   "cell_type": "code",
   "execution_count": 71,
   "metadata": {
    "scrolled": true
   },
   "outputs": [
    {
     "name": "stdout",
     "output_type": "stream",
     "text": [
      "3.000000 + 4.000000\n",
      "7\n",
      "2.000000 + 4.000000\n",
      "6\n",
      "2.000000 / 0.000000\n",
      "the division is not possible\n",
      "4.000000 / 2.000000\n",
      "2.0\n",
      "3.000000 * 4.000000\n",
      "12\n",
      "4.000000 - 5.000000\n",
      "-1\n",
      "2.000000 ** 2.000000\n",
      "4\n",
      "sqrt(4.000000)\n",
      "2.0\n"
     ]
    }
   ],
   "source": [
    "calc.print_history()"
   ]
  }
 ],
 "metadata": {
  "kernelspec": {
   "display_name": "Python 3",
   "language": "python",
   "name": "python3"
  },
  "language_info": {
   "codemirror_mode": {
    "name": "ipython",
    "version": 3
   },
   "file_extension": ".py",
   "mimetype": "text/x-python",
   "name": "python",
   "nbconvert_exporter": "python",
   "pygments_lexer": "ipython3",
   "version": "3.6.8"
  }
 },
 "nbformat": 4,
 "nbformat_minor": 2
}
