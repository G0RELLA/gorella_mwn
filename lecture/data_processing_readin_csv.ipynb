{
 "cells": [
  {
   "cell_type": "markdown",
   "metadata": {
    "slideshow": {
     "slide_type": "slide"
    }
   },
   "source": [
    "#Example - Data processing\n",
    "\n",
    "The dataset we use here is provided by \"Landesamt für Landwirtschaft, Umwelt und ländliche Räume (LLUR)\" and contains data of wind turbines. \n",
    "\n",
    "https://www.govdata.de/web/guest/daten/-/details/windkraftanlagen-betriebene-wka-pro-jahr-in-schleswig-holstein"
   ]
  },
  {
   "cell_type": "markdown",
   "metadata": {
    "slideshow": {
     "slide_type": "slide"
    }
   },
   "source": [
    "## Read in the CSV file\n",
    "\n",
    "To read in the csv file we can use the open() function from python"
   ]
  },
  {
   "cell_type": "code",
   "execution_count": 26,
   "metadata": {
    "slideshow": {
     "slide_type": "subslide"
    }
   },
   "outputs": [],
   "source": [
    "wind_file = []\n",
    "\n",
    "with open(\"opendata_wka_inbetrieb_sh_20210217.csv\",'r') as f:\n",
    "    wind_file = f.readlines()"
   ]
  },
  {
   "cell_type": "code",
   "execution_count": 27,
   "metadata": {
    "slideshow": {
     "slide_type": "fragment"
    }
   },
   "outputs": [
    {
     "data": {
      "text/plain": [
       "['\"Jahr\";\"Anzahl_betriebeneWKA_SH\";\"Leistung_MW\"\\n',\n",
       " '2012;2173;3248,182\\n',\n",
       " '2013;2222;3612,214\\n',\n",
       " '2014;2564;4789,208\\n',\n",
       " '2015;2759;5613,263\\n',\n",
       " '2016;2922;6171,822\\n',\n",
       " '2017;2976;6570,277\\n',\n",
       " '2018;2992;6670,657\\n',\n",
       " '2019;2997;6697,647\\n',\n",
       " '2020;3021;6788,747\\n',\n",
       " '\"bis 17.02.2021\";3031;6832,847\\n']"
      ]
     },
     "execution_count": 27,
     "metadata": {},
     "output_type": "execute_result"
    }
   ],
   "source": [
    "wind_file"
   ]
  },
  {
   "cell_type": "markdown",
   "metadata": {
    "slideshow": {
     "slide_type": "subslide"
    }
   },
   "source": [
    "ok... we got the data but how to continue?\n",
    "\n",
    "- remove all the \\n"
   ]
  },
  {
   "cell_type": "code",
   "execution_count": 32,
   "metadata": {
    "slideshow": {
     "slide_type": "subslide"
    }
   },
   "outputs": [],
   "source": [
    "wind_file_new = []\n",
    "for line in wind_file:\n",
    "    wind_file_new.append(line.strip())"
   ]
  },
  {
   "cell_type": "code",
   "execution_count": 33,
   "metadata": {
    "slideshow": {
     "slide_type": "fragment"
    }
   },
   "outputs": [
    {
     "data": {
      "text/plain": [
       "['\"Jahr\";\"Anzahl_betriebeneWKA_SH\";\"Leistung_MW\"',\n",
       " '2012;2173;3248,182',\n",
       " '2013;2222;3612,214',\n",
       " '2014;2564;4789,208',\n",
       " '2015;2759;5613,263',\n",
       " '2016;2922;6171,822',\n",
       " '2017;2976;6570,277',\n",
       " '2018;2992;6670,657',\n",
       " '2019;2997;6697,647',\n",
       " '2020;3021;6788,747',\n",
       " '\"bis 17.02.2021\";3031;6832,847']"
      ]
     },
     "execution_count": 33,
     "metadata": {},
     "output_type": "execute_result"
    }
   ],
   "source": [
    "wind_file_new"
   ]
  },
  {
   "cell_type": "markdown",
   "metadata": {
    "slideshow": {
     "slide_type": "subslide"
    }
   },
   "source": [
    "Now we need to separate the items"
   ]
  },
  {
   "cell_type": "code",
   "execution_count": 35,
   "metadata": {
    "slideshow": {
     "slide_type": "subslide"
    }
   },
   "outputs": [],
   "source": [
    "wind_file_new_new = []\n",
    "for i in wind_file_new:\n",
    "    wind_file_new_new.append(i.split(\";\"))"
   ]
  },
  {
   "cell_type": "code",
   "execution_count": 36,
   "metadata": {
    "slideshow": {
     "slide_type": "fragment"
    }
   },
   "outputs": [
    {
     "data": {
      "text/plain": [
       "[['\"Jahr\"', '\"Anzahl_betriebeneWKA_SH\"', '\"Leistung_MW\"'],\n",
       " ['2012', '2173', '3248,182'],\n",
       " ['2013', '2222', '3612,214'],\n",
       " ['2014', '2564', '4789,208'],\n",
       " ['2015', '2759', '5613,263'],\n",
       " ['2016', '2922', '6171,822'],\n",
       " ['2017', '2976', '6570,277'],\n",
       " ['2018', '2992', '6670,657'],\n",
       " ['2019', '2997', '6697,647'],\n",
       " ['2020', '3021', '6788,747'],\n",
       " ['\"bis 17.02.2021\"', '3031', '6832,847']]"
      ]
     },
     "execution_count": 36,
     "metadata": {},
     "output_type": "execute_result"
    }
   ],
   "source": [
    "wind_file_new_new"
   ]
  },
  {
   "cell_type": "markdown",
   "metadata": {
    "slideshow": {
     "slide_type": "subslide"
    }
   },
   "source": [
    "ok we did it.... but is there a way to make it easier?\n",
    "\n",
    "see [DataFrame](https://pandas.pydata.org/pandas-docs/stable/reference/api/pandas.DataFrame.html)\n"
   ]
  },
  {
   "cell_type": "markdown",
   "metadata": {
    "slideshow": {
     "slide_type": "slide"
    }
   },
   "source": [
    "## Using Pandas"
   ]
  },
  {
   "cell_type": "markdown",
   "metadata": {
    "slideshow": {
     "slide_type": "subslide"
    }
   },
   "source": [
    "- we use the module pandas\n",
    "- we just import pandas"
   ]
  },
  {
   "cell_type": "code",
   "execution_count": 2,
   "metadata": {
    "slideshow": {
     "slide_type": "fragment"
    }
   },
   "outputs": [],
   "source": [
    "import pandas as pd"
   ]
  },
  {
   "cell_type": "code",
   "execution_count": 4,
   "metadata": {
    "slideshow": {
     "slide_type": "subslide"
    }
   },
   "outputs": [],
   "source": [
    "df = pd.read_csv(\"opendata_wka_inbetrieb_sh_20210217.csv\")"
   ]
  },
  {
   "cell_type": "code",
   "execution_count": 5,
   "metadata": {
    "slideshow": {
     "slide_type": "fragment"
    }
   },
   "outputs": [
    {
     "data": {
      "text/html": [
       "<div>\n",
       "<style scoped>\n",
       "    .dataframe tbody tr th:only-of-type {\n",
       "        vertical-align: middle;\n",
       "    }\n",
       "\n",
       "    .dataframe tbody tr th {\n",
       "        vertical-align: top;\n",
       "    }\n",
       "\n",
       "    .dataframe thead th {\n",
       "        text-align: right;\n",
       "    }\n",
       "</style>\n",
       "<table border=\"1\" class=\"dataframe\">\n",
       "  <thead>\n",
       "    <tr style=\"text-align: right;\">\n",
       "      <th></th>\n",
       "      <th>Jahr;\"Anzahl_betriebeneWKA_SH\";\"Leistung_MW\"</th>\n",
       "    </tr>\n",
       "  </thead>\n",
       "  <tbody>\n",
       "    <tr>\n",
       "      <th>2012;2173;3248</th>\n",
       "      <td>182</td>\n",
       "    </tr>\n",
       "    <tr>\n",
       "      <th>2013;2222;3612</th>\n",
       "      <td>214</td>\n",
       "    </tr>\n",
       "    <tr>\n",
       "      <th>2014;2564;4789</th>\n",
       "      <td>208</td>\n",
       "    </tr>\n",
       "    <tr>\n",
       "      <th>2015;2759;5613</th>\n",
       "      <td>263</td>\n",
       "    </tr>\n",
       "    <tr>\n",
       "      <th>2016;2922;6171</th>\n",
       "      <td>822</td>\n",
       "    </tr>\n",
       "    <tr>\n",
       "      <th>2017;2976;6570</th>\n",
       "      <td>277</td>\n",
       "    </tr>\n",
       "    <tr>\n",
       "      <th>2018;2992;6670</th>\n",
       "      <td>657</td>\n",
       "    </tr>\n",
       "    <tr>\n",
       "      <th>2019;2997;6697</th>\n",
       "      <td>647</td>\n",
       "    </tr>\n",
       "    <tr>\n",
       "      <th>2020;3021;6788</th>\n",
       "      <td>747</td>\n",
       "    </tr>\n",
       "    <tr>\n",
       "      <th>bis 17.02.2021;3031;6832</th>\n",
       "      <td>847</td>\n",
       "    </tr>\n",
       "  </tbody>\n",
       "</table>\n",
       "</div>"
      ],
      "text/plain": [
       "                          Jahr;\"Anzahl_betriebeneWKA_SH\";\"Leistung_MW\"\n",
       "2012;2173;3248                                                     182\n",
       "2013;2222;3612                                                     214\n",
       "2014;2564;4789                                                     208\n",
       "2015;2759;5613                                                     263\n",
       "2016;2922;6171                                                     822\n",
       "2017;2976;6570                                                     277\n",
       "2018;2992;6670                                                     657\n",
       "2019;2997;6697                                                     647\n",
       "2020;3021;6788                                                     747\n",
       "bis 17.02.2021;3031;6832                                           847"
      ]
     },
     "metadata": {},
     "output_type": "display_data"
    }
   ],
   "source": [
    "display (df)"
   ]
  },
  {
   "cell_type": "markdown",
   "metadata": {
    "slideshow": {
     "slide_type": "subslide"
    }
   },
   "source": [
    "this does not look so nice and not everything is in line"
   ]
  },
  {
   "cell_type": "markdown",
   "metadata": {
    "slideshow": {
     "slide_type": "fragment"
    }
   },
   "source": [
    "ok not the right seperator... we need a ; instread of a ,"
   ]
  },
  {
   "cell_type": "code",
   "execution_count": 37,
   "metadata": {
    "slideshow": {
     "slide_type": "subslide"
    }
   },
   "outputs": [],
   "source": [
    "df = pd.read_csv(\"opendata_wka_inbetrieb_sh_20210217.csv\",sep=\";\")"
   ]
  },
  {
   "cell_type": "code",
   "execution_count": 38,
   "metadata": {
    "slideshow": {
     "slide_type": "fragment"
    }
   },
   "outputs": [
    {
     "data": {
      "text/html": [
       "<div>\n",
       "<style scoped>\n",
       "    .dataframe tbody tr th:only-of-type {\n",
       "        vertical-align: middle;\n",
       "    }\n",
       "\n",
       "    .dataframe tbody tr th {\n",
       "        vertical-align: top;\n",
       "    }\n",
       "\n",
       "    .dataframe thead th {\n",
       "        text-align: right;\n",
       "    }\n",
       "</style>\n",
       "<table border=\"1\" class=\"dataframe\">\n",
       "  <thead>\n",
       "    <tr style=\"text-align: right;\">\n",
       "      <th></th>\n",
       "      <th>Jahr</th>\n",
       "      <th>Anzahl_betriebeneWKA_SH</th>\n",
       "      <th>Leistung_MW</th>\n",
       "    </tr>\n",
       "  </thead>\n",
       "  <tbody>\n",
       "    <tr>\n",
       "      <th>0</th>\n",
       "      <td>2012</td>\n",
       "      <td>2173</td>\n",
       "      <td>3248,182</td>\n",
       "    </tr>\n",
       "    <tr>\n",
       "      <th>1</th>\n",
       "      <td>2013</td>\n",
       "      <td>2222</td>\n",
       "      <td>3612,214</td>\n",
       "    </tr>\n",
       "    <tr>\n",
       "      <th>2</th>\n",
       "      <td>2014</td>\n",
       "      <td>2564</td>\n",
       "      <td>4789,208</td>\n",
       "    </tr>\n",
       "    <tr>\n",
       "      <th>3</th>\n",
       "      <td>2015</td>\n",
       "      <td>2759</td>\n",
       "      <td>5613,263</td>\n",
       "    </tr>\n",
       "    <tr>\n",
       "      <th>4</th>\n",
       "      <td>2016</td>\n",
       "      <td>2922</td>\n",
       "      <td>6171,822</td>\n",
       "    </tr>\n",
       "    <tr>\n",
       "      <th>5</th>\n",
       "      <td>2017</td>\n",
       "      <td>2976</td>\n",
       "      <td>6570,277</td>\n",
       "    </tr>\n",
       "    <tr>\n",
       "      <th>6</th>\n",
       "      <td>2018</td>\n",
       "      <td>2992</td>\n",
       "      <td>6670,657</td>\n",
       "    </tr>\n",
       "    <tr>\n",
       "      <th>7</th>\n",
       "      <td>2019</td>\n",
       "      <td>2997</td>\n",
       "      <td>6697,647</td>\n",
       "    </tr>\n",
       "    <tr>\n",
       "      <th>8</th>\n",
       "      <td>2020</td>\n",
       "      <td>3021</td>\n",
       "      <td>6788,747</td>\n",
       "    </tr>\n",
       "    <tr>\n",
       "      <th>9</th>\n",
       "      <td>bis 17.02.2021</td>\n",
       "      <td>3031</td>\n",
       "      <td>6832,847</td>\n",
       "    </tr>\n",
       "  </tbody>\n",
       "</table>\n",
       "</div>"
      ],
      "text/plain": [
       "             Jahr  Anzahl_betriebeneWKA_SH Leistung_MW\n",
       "0            2012                     2173    3248,182\n",
       "1            2013                     2222    3612,214\n",
       "2            2014                     2564    4789,208\n",
       "3            2015                     2759    5613,263\n",
       "4            2016                     2922    6171,822\n",
       "5            2017                     2976    6570,277\n",
       "6            2018                     2992    6670,657\n",
       "7            2019                     2997    6697,647\n",
       "8            2020                     3021    6788,747\n",
       "9  bis 17.02.2021                     3031    6832,847"
      ]
     },
     "metadata": {},
     "output_type": "display_data"
    }
   ],
   "source": [
    "display(df)"
   ]
  },
  {
   "cell_type": "markdown",
   "metadata": {
    "slideshow": {
     "slide_type": "subslide"
    }
   },
   "source": [
    "We did it!!"
   ]
  },
  {
   "cell_type": "markdown",
   "metadata": {
    "slideshow": {
     "slide_type": "fragment"
    }
   },
   "source": [
    "now what can we do?"
   ]
  },
  {
   "cell_type": "markdown",
   "metadata": {
    "slideshow": {
     "slide_type": "fragment"
    }
   },
   "source": [
    "- display the values\n",
    "- calculating some statistics"
   ]
  }
 ],
 "metadata": {
  "celltoolbar": "Slideshow",
  "kernelspec": {
   "display_name": "Python 3",
   "language": "python",
   "name": "python3"
  },
  "language_info": {
   "codemirror_mode": {
    "name": "ipython",
    "version": 3
   },
   "file_extension": ".py",
   "mimetype": "text/x-python",
   "name": "python",
   "nbconvert_exporter": "python",
   "pygments_lexer": "ipython3",
   "version": "3.8.5"
  }
 },
 "nbformat": 4,
 "nbformat_minor": 2
}
